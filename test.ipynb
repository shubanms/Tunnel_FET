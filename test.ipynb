{
 "cells": [
  {
   "cell_type": "code",
   "execution_count": 9,
   "metadata": {},
   "outputs": [],
   "source": [
    "import math\n",
    "import numpy\n",
    "import pandas\n",
    "import matplotlib\n",
    "import os\n",
    "import time\n",
    "import matplotlib.pyplot as plt"
   ]
  },
  {
   "cell_type": "code",
   "execution_count": 10,
   "metadata": {},
   "outputs": [],
   "source": [
    "# Constants\n",
    "\n",
    "Q = 1.6 * (10 ** -19)\n",
    "Esi = 103.545 * (10 ** -12)\n",
    "Eox = 34.515 * (10 ** -12)\n",
    "M1_eV = 4.8\n",
    "M2_eV = 4.6\n",
    "M3_eV = 4.4\n",
    "Vbi = 26 * (10 ** -3)"
   ]
  },
  {
   "cell_type": "code",
   "execution_count": 11,
   "metadata": {},
   "outputs": [],
   "source": [
    "def R(Tsi : float) -> float:\n",
    "    return Tsi/2"
   ]
  },
  {
   "cell_type": "code",
   "execution_count": 12,
   "metadata": {},
   "outputs": [],
   "source": [
    "def alpha(Eox : float , Tox : float , Tsi : float) -> float:\n",
    "    variable1 = 2 * Eox\n",
    "    variable2 = (R(Tsi) ** 2) * (Esi) * math.log(1 + (Tox / R(Tsi)))\n",
    "    variable3 = variable1/variable2\n",
    "    return math.sqrt(variable3)"
   ]
  },
  {
   "cell_type": "code",
   "execution_count": 13,
   "metadata": {},
   "outputs": [],
   "source": [
    "def Fp(Na : float , Ni : float , Vbi : float) -> float:\n",
    "    variable1 = math.log(Na / Ni)\n",
    "    return Vbi * variable1"
   ]
  },
  {
   "cell_type": "code",
   "execution_count": 14,
   "metadata": {},
   "outputs": [],
   "source": [
    "def Phi_si(Ef : float , Eg : float , Q : float , Fp : float) -> float:\n",
    "    variable1 = Eg / (2 * Q)\n",
    "    return Ef + variable1 + Fp"
   ]
  },
  {
   "cell_type": "code",
   "execution_count": 15,
   "metadata": {},
   "outputs": [],
   "source": [
    "def Vfbn(M : float , Phi_si : float) -> float:\n",
    "    return M - Phi_si"
   ]
  },
  {
   "cell_type": "code",
   "execution_count": 16,
   "metadata": {},
   "outputs": [],
   "source": [
    "def Bn(alpha : float , Vgs : float , Vfbn : float) -> float:\n",
    "    variable1 = Vgs - Vfbn\n",
    "    variable2 = -1 * (alpha ** 2)\n",
    "    return variable1 * variable2"
   ]
  },
  {
   "cell_type": "code",
   "execution_count": 17,
   "metadata": {},
   "outputs": [],
   "source": [
    "def b():\n",
    "    pass"
   ]
  },
  {
   "cell_type": "code",
   "execution_count": 18,
   "metadata": {},
   "outputs": [],
   "source": [
    "def surfacePotential(Ln : float , alpha : float , z : float , Vbi : float , Vds : float , Bn : float) -> float:\n",
    "    variable1 = math.sinh(alpha * Ln)\n",
    "    variable2 = math.sinh(alpha * (Ln - z))\n",
    "    variable3 = Vbi * (variable1 + variable2)\n",
    "    variable4 = Vds * variable1\n",
    "    variable5 = Bn / alpha ** 2\n",
    "    variable6 = math.sinh(alpha * z)\n",
    "    variable7 = variable5 * (variable1 + variable6 + variable2)\n",
    "    variable8 = 1 / variable1\n",
    "    \n",
    "    return variable8 * (variable3 + variable4 + variable7)"
   ]
  },
  {
   "cell_type": "code",
   "execution_count": 21,
   "metadata": {},
   "outputs": [],
   "source": [
    "def electricField(L : float , z : float , Vbi : float , Vds : float , alpha : float , B : float) -> float:\n",
    "    variable1 = math.sinh(alpha * L)\n",
    "    variable2 = math.cosh(alpha * L)\n",
    "    variable3 = math.cosh(alpha * (z - L))\n",
    "    variable4 = B / alpha ** 2\n",
    "    variable5 = alpha / variable1\n",
    "    variable6 = Vbi * (variable2 - variable3)\n",
    "    variable7 = variable4 * (variable2 - variable3)\n",
    "    variable8 = Vds * (variable2)\n",
    "    \n",
    "    return variable5 * (variable6 + variable7 + variable8)"
   ]
  },
  {
   "cell_type": "code",
   "execution_count": null,
   "metadata": {},
   "outputs": [],
   "source": []
  }
 ],
 "metadata": {
  "kernelspec": {
   "display_name": "Python 3",
   "language": "python",
   "name": "python3"
  },
  "language_info": {
   "codemirror_mode": {
    "name": "ipython",
    "version": 3
   },
   "file_extension": ".py",
   "mimetype": "text/x-python",
   "name": "python",
   "nbconvert_exporter": "python",
   "pygments_lexer": "ipython3",
   "version": "3.11.1"
  },
  "orig_nbformat": 4
 },
 "nbformat": 4,
 "nbformat_minor": 2
}

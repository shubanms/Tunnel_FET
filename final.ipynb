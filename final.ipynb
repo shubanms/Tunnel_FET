{
 "cells": [
  {
   "cell_type": "code",
   "execution_count": 21,
   "metadata": {},
   "outputs": [],
   "source": [
    "import matplotlib.pyplot as plt\n",
    "import math\n",
    "import numpy as np\n",
    "import itertools\n",
    "import pandas as pd"
   ]
  },
  {
   "cell_type": "code",
   "execution_count": 22,
   "metadata": {},
   "outputs": [],
   "source": [
    "# Constants\n",
    "\n",
    "esi = 103.545 * (10 ** (-12))\n",
    "eox = 34.515 * (10 ** (-12))\n",
    "phiM1 = 4.8\n",
    "phiM2 = 4.6\n",
    "phiM3 = 4.4\n",
    "q = 1.6 * (10 ** (-19))\n",
    "ns = 10 ** 15\n",
    "na = nd = 10 ** 21\n",
    "kb = 1.38 * (10 ** (-23))\n",
    "vt = 258.8716875 * (10 ** (-4))\n",
    "vbi = 1.30087959167\n",
    "phiF = 0.64519809417\n",
    "phiSi = 4.01\n",
    "eg = 1.12 * q\n",
    "vds = 1"
   ]
  },
  {
   "cell_type": "code",
   "execution_count": 23,
   "metadata": {},
   "outputs": [],
   "source": [
    "def length(l:float) -> float:\n",
    "    l1 = l2 = l3 = l/3\n",
    "    return [l1,l2,l3]"
   ]
  },
  {
   "cell_type": "code",
   "execution_count": 24,
   "metadata": {},
   "outputs": [],
   "source": [
    "def R(tsi : float) -> float:\n",
    "    return tsi/2"
   ]
  },
  {
   "cell_type": "code",
   "execution_count": 51,
   "metadata": {},
   "outputs": [],
   "source": [
    "def alpha(eox : float , Tox : float ,  esi : float , tsi : float) -> float:\n",
    "    variable1 = 2 * eox\n",
    "    variable2 = (R(tsi) ** 2) * (esi) * np.log(1 + (Tox / R(tsi)))\n",
    "    variable3 = variable1/variable2\n",
    "    return np.sqrt(variable3)"
   ]
  },
  {
   "cell_type": "code",
   "execution_count": 52,
   "metadata": {},
   "outputs": [],
   "source": [
    "def Vfbn(phiM : float , phiSi : float) -> float:\n",
    "    return phiM - phiSi"
   ]
  },
  {
   "cell_type": "code",
   "execution_count": 53,
   "metadata": {},
   "outputs": [],
   "source": [
    "def Bn(alpha : float , vg : float , Vfbn : float) -> float:\n",
    "    variable1 = vg - Vfbn\n",
    "    variable2 = -1 * (alpha ** 2)\n",
    "    return variable1 * variable2"
   ]
  },
  {
   "cell_type": "code",
   "execution_count": 54,
   "metadata": {},
   "outputs": [],
   "source": [
    "def Phi_si() -> float:\n",
    "    variable1 = eg / (2 * q)\n",
    "    return phiSi + variable1 + phiF"
   ]
  },
  {
   "cell_type": "code",
   "execution_count": 55,
   "metadata": {},
   "outputs": [],
   "source": [
    "def surfacePotential(l : float , alpha : float , Bn : float) -> float:\n",
    "    variable1 = np.sinh(alpha * l)\n",
    "    variable2 = np.sinh(alpha * (l))\n",
    "    variable3 = vbi * (variable1 + variable2)\n",
    "    variable4 = vds * variable1\n",
    "    variable5 = Bn / alpha ** 2\n",
    "    variable6 = np.sinh(0)\n",
    "    variable7 = variable5 * (variable1 + variable6 + variable2)\n",
    "    variable8 = 1 / variable1\n",
    "    \n",
    "    return variable8 * (variable3 + variable4 + variable7)"
   ]
  },
  {
   "cell_type": "code",
   "execution_count": 56,
   "metadata": {},
   "outputs": [],
   "source": [
    "tox = [item for item in np.arange(2,11,1)]\n",
    "tsi = [item for item in np.arange(2,11,1)]\n",
    "vg = [item for item in np.arange(0,1.11,0.01)]\n",
    "l = [item for item in range(90,181,5)]\n",
    "ln = [item/3 for item in l]\n",
    "vg.pop()\n",
    "vg = [round(item,3) for item in vg]\n",
    "ln = [round(item,3) for item in ln]"
   ]
  },
  {
   "attachments": {},
   "cell_type": "markdown",
   "metadata": {},
   "source": [
    "def length(l:float) -> float: <br>\n",
    "    l1 = l2 = l3 = l/3 <br>\n",
    "    return [l1,l2,l3] <br>"
   ]
  },
  {
   "cell_type": "code",
   "execution_count": 57,
   "metadata": {},
   "outputs": [
    {
     "name": "stdout",
     "output_type": "stream",
     "text": [
      "170829\n"
     ]
    }
   ],
   "source": [
    "combination = list(itertools.product(tox, tsi, vg, l))\n",
    "\n",
    "combinations = [list(item) for item in combination]\n",
    "\n",
    "dataset = [lst + [lst[-1] / 3] * 3 for lst in combinations]\n",
    "\n",
    "\n",
    "print(len(dataset))\n",
    "\n",
    "columns=['tox', 'tsi', 'vg', 'l', 'l1', 'l2', 'l3']\n",
    "\n",
    "# df = pd.DataFrame(dataset, columns)\n",
    "\n",
    "# print(df)"
   ]
  },
  {
   "cell_type": "code",
   "execution_count": 58,
   "metadata": {},
   "outputs": [
    {
     "name": "stdout",
     "output_type": "stream",
     "text": [
      "        tox  tsi   vg    l         l1         l2         l3\n",
      "0         2    2  0.0   90  30.000000  30.000000  30.000000\n",
      "1         2    2  0.0   95  31.666667  31.666667  31.666667\n",
      "2         2    2  0.0  100  33.333333  33.333333  33.333333\n",
      "3         2    2  0.0  105  35.000000  35.000000  35.000000\n",
      "4         2    2  0.0  110  36.666667  36.666667  36.666667\n",
      "...     ...  ...  ...  ...        ...        ...        ...\n",
      "170824   10   10  1.1  160  53.333333  53.333333  53.333333\n",
      "170825   10   10  1.1  165  55.000000  55.000000  55.000000\n",
      "170826   10   10  1.1  170  56.666667  56.666667  56.666667\n",
      "170827   10   10  1.1  175  58.333333  58.333333  58.333333\n",
      "170828   10   10  1.1  180  60.000000  60.000000  60.000000\n",
      "\n",
      "[170829 rows x 7 columns]\n"
     ]
    }
   ],
   "source": [
    "df = pd.DataFrame.from_records(dataset, columns=columns)\n",
    "print(df)"
   ]
  },
  {
   "cell_type": "code",
   "execution_count": 59,
   "metadata": {},
   "outputs": [],
   "source": [
    "df = df.round(3)"
   ]
  },
  {
   "cell_type": "code",
   "execution_count": 60,
   "metadata": {},
   "outputs": [],
   "source": [
    "df.to_csv('data.txt', sep=',', index=False)"
   ]
  },
  {
   "cell_type": "code",
   "execution_count": 61,
   "metadata": {},
   "outputs": [],
   "source": [
    "newColumns = [\"surfacePotential1\" , \"surfacePotential2\" , \"surfacePotential3\"]"
   ]
  },
  {
   "cell_type": "code",
   "execution_count": 62,
   "metadata": {},
   "outputs": [
    {
     "name": "stdout",
     "output_type": "stream",
     "text": [
      "7\n"
     ]
    }
   ],
   "source": [
    "print(len(dataset[0]))"
   ]
  },
  {
   "cell_type": "code",
   "execution_count": 64,
   "metadata": {},
   "outputs": [],
   "source": [
    "df['surfacePotential1'] = surfacePotential(df['l1'] , alpha(eox , df['tox'] , esi , df['tsi']) , Bn(alpha(eox , df['tox'] , esi , df['tsi']) , df['vg'] , Vfbn(phiM1 , phiSi)))"
   ]
  },
  {
   "cell_type": "code",
   "execution_count": 66,
   "metadata": {},
   "outputs": [],
   "source": [
    "df['surfacePotential2'] = surfacePotential(df['l2'] , alpha(eox , df['tox'] , esi , df['tsi']) , Bn(alpha(eox , df['tox'] , esi , df['tsi']) , df['vg'] , Vfbn(phiM2 , phiSi)))"
   ]
  },
  {
   "cell_type": "code",
   "execution_count": 67,
   "metadata": {},
   "outputs": [],
   "source": [
    "df['surfacePotential3'] = surfacePotential(df['l3'] , alpha(eox , df['tox'] , esi , df['tsi']) , Bn(alpha(eox , df['tox'] , esi , df['tsi']) , df['vg'] , Vfbn(phiM3 , phiSi)))"
   ]
  },
  {
   "cell_type": "code",
   "execution_count": 68,
   "metadata": {},
   "outputs": [
    {
     "name": "stdout",
     "output_type": "stream",
     "text": [
      "        tox  tsi   vg    l      l1      l2      l3  surfacePotential1  \\\n",
      "0         2    2  0.0   90  30.000  30.000  30.000           5.181759   \n",
      "1         2    2  0.0   95  31.667  31.667  31.667           5.181759   \n",
      "2         2    2  0.0  100  33.333  33.333  33.333           5.181759   \n",
      "3         2    2  0.0  105  35.000  35.000  35.000           5.181759   \n",
      "4         2    2  0.0  110  36.667  36.667  36.667           5.181759   \n",
      "...     ...  ...  ...  ...     ...     ...     ...                ...   \n",
      "170824   10   10  1.1  160  53.333  53.333  53.333           2.981759   \n",
      "170825   10   10  1.1  165  55.000  55.000  55.000           2.981759   \n",
      "170826   10   10  1.1  170  56.667  56.667  56.667           2.981759   \n",
      "170827   10   10  1.1  175  58.333  58.333  58.333           2.981759   \n",
      "170828   10   10  1.1  180  60.000  60.000  60.000           2.981759   \n",
      "\n",
      "        surfacePotential2  surfacePotential3  \n",
      "0                4.781759           4.381759  \n",
      "1                4.781759           4.381759  \n",
      "2                4.781759           4.381759  \n",
      "3                4.781759           4.381759  \n",
      "4                4.781759           4.381759  \n",
      "...                   ...                ...  \n",
      "170824           2.581759           2.181759  \n",
      "170825           2.581759           2.181759  \n",
      "170826           2.581759           2.181759  \n",
      "170827           2.581759           2.181759  \n",
      "170828           2.581759           2.181759  \n",
      "\n",
      "[170829 rows x 10 columns]\n"
     ]
    }
   ],
   "source": [
    "print(df)"
   ]
  },
  {
   "cell_type": "code",
   "execution_count": 70,
   "metadata": {},
   "outputs": [],
   "source": [
    "df = df.round(3)"
   ]
  },
  {
   "cell_type": "code",
   "execution_count": 71,
   "metadata": {},
   "outputs": [],
   "source": [
    "df.to_csv('data.txt', sep=',', index=False)"
   ]
  },
  {
   "cell_type": "code",
   "execution_count": 73,
   "metadata": {},
   "outputs": [],
   "source": [
    "df.to_excel('output.xlsx', index=False)"
   ]
  },
  {
   "cell_type": "code",
   "execution_count": null,
   "metadata": {},
   "outputs": [],
   "source": []
  }
 ],
 "metadata": {
  "kernelspec": {
   "display_name": "Python 3",
   "language": "python",
   "name": "python3"
  },
  "language_info": {
   "codemirror_mode": {
    "name": "ipython",
    "version": 3
   },
   "file_extension": ".py",
   "mimetype": "text/x-python",
   "name": "python",
   "nbconvert_exporter": "python",
   "pygments_lexer": "ipython3",
   "version": "3.11.1"
  },
  "orig_nbformat": 4
 },
 "nbformat": 4,
 "nbformat_minor": 2
}
